{
 "cells": [
  {
   "cell_type": "code",
   "execution_count": 2,
   "metadata": {},
   "outputs": [
    {
     "name": "stdout",
     "output_type": "stream",
     "text": [
      "['Agrawal had been closely involved with Dorsey over the years in the evolution of Twitter, reported CNBC at the time.']\n"
     ]
    }
   ],
   "source": [
    "import nltk\n",
    "# nltk.download('punkt')\n",
    "from nltk.tokenize import sent_tokenize\n",
    "from sklearn.metrics.pairwise import cosine_similarity\n",
    "from sklearn.feature_extraction.text import CountVectorizer\n",
    "import numpy as np\n",
    "\n",
    "# Tokenize the text\n",
    "def tokenize_text(text):\n",
    "    return sent_tokenize(text)\n",
    "\n",
    "# Vectorize the sentences\n",
    "def vectorize_sentences(sentences):\n",
    "    vectorizer = CountVectorizer()\n",
    "    vectors = vectorizer.fit_transform(sentences)\n",
    "    return vectors.toarray()\n",
    "\n",
    "# Compute similarity matrix\n",
    "def compute_similarity_matrix(vectors):\n",
    "    similarity_matrix = cosine_similarity(vectors)\n",
    "    return similarity_matrix\n",
    "\n",
    "# Create graph\n",
    "def create_graph(similarity_matrix):\n",
    "    graph = np.zeros((len(similarity_matrix), len(similarity_matrix)))\n",
    "    for i in range(len(similarity_matrix)):\n",
    "        for j in range(len(similarity_matrix)):\n",
    "            if i != j:\n",
    "                graph[i][j] = similarity_matrix[i][j]\n",
    "    return graph\n",
    "\n",
    "# Rank sentences\n",
    "def rank_sentences(graph):\n",
    "    n = len(graph)\n",
    "    eigenvector = np.ones(n) / n\n",
    "    for i in range(100):\n",
    "        eigenvector = np.dot(graph, eigenvector)\n",
    "    return eigenvector\n",
    "\n",
    "# Select top-ranked sentences\n",
    "def select_top_ranked_sentences(sentences, eigenvector, top_n=3):\n",
    "    ranked_sentences = [(eigenvector[i], s) for i, s in enumerate(sentences)]\n",
    "    ranked_sentences.sort(key=lambda x: x[0], reverse=True)\n",
    "    return [s for _, s in ranked_sentences[:top_n]]\n",
    "\n",
    "# main function\n",
    "def extractive_summarization(text, top_n=3):\n",
    "    sentences = tokenize_text(text)\n",
    "    vectors = vectorize_sentences(sentences)\n",
    "    similarity_matrix = compute_similarity_matrix(vectors)\n",
    "    graph = create_graph(similarity_matrix)\n",
    "    eigenvector = rank_sentences(graph)\n",
    "    summary = select_top_ranked_sentences(sentences, eigenvector, top_n)\n",
    "    return summary\n",
    "\n",
    "# test\n",
    "text = '''Agrawal was appointed as the CEO of Twitter in November 2021 after Dorsey stepped down. \n",
    "At the time of his appointment, Agrawal was serving as the Chief Technology Officer of Twitter. He had joined the company in 2011 when it had less than 1,000 employees.\n",
    "It was also reported that Agrawal was central to Dorsey's vision for not just Twitter but the future of the social media. Agrawal had been closely involved with Dorsey over the years in the evolution of Twitter, reported CNBC at the time.\n",
    "\"Agrawal has been Dorsey’s closest partner in considering the future of the Twitter platform, and the two have a shared vision for decentralising social media,\" reported CNBC.\n",
    "When Agrawal was appointed CEO, he joined a steadily growing club of executives from India rising to the top of global corporations, including Microsoft CEO Satya Nadella, Alphabet CEO Sundar Pichai, and Adobe CEO Shantanu Narayen. Indra Nooyi had served as PepsiCo’s CEO for 12 years before stepping down in 2018. '''\n",
    "summary = extractive_summarization(text, 1)\n",
    "print(summary)\n"
   ]
  }
 ],
 "metadata": {
  "kernelspec": {
   "display_name": "webdev",
   "language": "python",
   "name": "python3"
  },
  "language_info": {
   "codemirror_mode": {
    "name": "ipython",
    "version": 3
   },
   "file_extension": ".py",
   "mimetype": "text/x-python",
   "name": "python",
   "nbconvert_exporter": "python",
   "pygments_lexer": "ipython3",
   "version": "3.11.1"
  },
  "orig_nbformat": 4,
  "vscode": {
   "interpreter": {
    "hash": "9852463fe6f759ccdb8710624020f07e6b127c81697c2a76dd7cec9fe7bb1b81"
   }
  }
 },
 "nbformat": 4,
 "nbformat_minor": 2
}
